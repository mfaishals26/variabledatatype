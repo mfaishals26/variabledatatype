{
 "cells": [
  {
   "cell_type": "markdown",
   "id": "7984cce2-d88c-4c6f-96dc-4aef83e0d990",
   "metadata": {},
   "source": [
    "<h1><font color = \"green\">Belajar Variasi dan tipe data</h1><hr>\n",
    "Tipe data di python yaitu <b> integer,float,boolean,string,complex </b>\n",
    "   "
   ]
  },
  {
   "cell_type": "code",
   "execution_count": 24,
   "id": "71ac845a-628e-48cf-9399-340ff072ef3b",
   "metadata": {
    "tags": []
   },
   "outputs": [
    {
     "name": "stdout",
     "output_type": "stream",
     "text": [
      "100\n",
      "<class 'int'>\n"
     ]
    }
   ],
   "source": [
    "data_integer = 100\n",
    "data_integer\n",
    "print(data_integer)\n",
    "print(type(data_integer))"
   ]
  },
  {
   "cell_type": "code",
   "execution_count": 15,
   "id": "0a16d9cf-8c7c-49d6-a899-f49fde6a23b4",
   "metadata": {},
   "outputs": [
    {
     "name": "stdout",
     "output_type": "stream",
     "text": [
      "10.5\n",
      "<class 'float'>\n"
     ]
    }
   ],
   "source": [
    "data_float = 10.5\n",
    "print(data_float)\n",
    "print(type(data_float))"
   ]
  },
  {
   "cell_type": "code",
   "execution_count": 18,
   "id": "9061c579-fd20-4a4a-bc48-b5089e7fd7a7",
   "metadata": {},
   "outputs": [
    {
     "name": "stdout",
     "output_type": "stream",
     "text": [
      "True\n",
      "<class 'bool'>\n"
     ]
    }
   ],
   "source": [
    "data_boolean = True\n",
    "print(data_boolean)\n",
    "print(type(data_boolean))"
   ]
  },
  {
   "cell_type": "code",
   "execution_count": 20,
   "id": "2c50ef14-22f3-48a7-bcca-ba50cd0fe15e",
   "metadata": {},
   "outputs": [
    {
     "name": "stdout",
     "output_type": "stream",
     "text": [
      "False\n",
      "<class 'bool'>\n"
     ]
    }
   ],
   "source": [
    "data_boolean = False\n",
    "print(data_boolean)\n",
    "print(type(data_boolean))"
   ]
  },
  {
   "cell_type": "code",
   "execution_count": 83,
   "id": "e7ab5f3a-4e2f-4524-98a7-eada0014ac1f",
   "metadata": {},
   "outputs": [
    {
     "name": "stdout",
     "output_type": "stream",
     "text": [
      "100\n",
      "<class 'str'>\n"
     ]
    }
   ],
   "source": [
    "data_string = \"100\"\n",
    "print(data_string)\n",
    "print(type(data_string))"
   ]
  },
  {
   "cell_type": "code",
   "execution_count": 23,
   "id": "a30f7364-f98f-47d7-a106-642da16168f1",
   "metadata": {},
   "outputs": [
    {
     "name": "stdout",
     "output_type": "stream",
     "text": [
      "(5+6j)\n",
      "<class 'complex'>\n"
     ]
    }
   ],
   "source": [
    "data_complex = complex(5,6)\n",
    "print(data_complex)\n",
    "print(type(data_complex))"
   ]
  },
  {
   "cell_type": "markdown",
   "id": "41e7f353-7026-431b-ac71-5d2f957eb667",
   "metadata": {
    "tags": []
   },
   "source": [
    "<h2>Casting</h2><hr>\n",
    "<font color=\"red\">casting</font> adalah proses melakukan konversi tipe data <br>\n",
    "<ol>\n",
    "    <li>sintak casting menggunakan(tipe data)</li>\n",
    "    <li> casting dapat dilakukan untuk semua tipe data</li>\n",
    "    </ol>"
   ]
  },
  {
   "cell_type": "code",
   "execution_count": 47,
   "id": "43eb8145-b4c3-4205-ad74-7a3e5faf13aa",
   "metadata": {},
   "outputs": [
    {
     "name": "stdout",
     "output_type": "stream",
     "text": [
      "100\n",
      "10.5\n",
      "False\n",
      "(5+6j)\n",
      "<class 'str'>\n",
      "<class 'float'>\n",
      "<class 'bool'>\n",
      "<class 'complex'>\n"
     ]
    }
   ],
   "source": [
    "int_to_string = str(data_integer)\n",
    "int_to_float = float(data_float)\n",
    "int_to_boolean = bool (data_boolean)\n",
    "int_to_complex = complex (data_complex)\n",
    "\n",
    "print(int_to_string)\n",
    "print (int_to_float)\n",
    "print(int_to_boolean)\n",
    "print (int_to_complex)\n",
    "\n",
    "print(type(int_to_string))\n",
    "print(type(int_to_float))\n",
    "print(type(int_to_boolean))\n",
    "print(type(int_to_complex))"
   ]
  },
  {
   "cell_type": "code",
   "execution_count": 92,
   "id": "e7538379-5bdd-4fbd-a6ee-13a434df5a95",
   "metadata": {},
   "outputs": [
    {
     "name": "stdout",
     "output_type": "stream",
     "text": [
      "100\n",
      "100.0\n",
      "True\n",
      "<class 'str'>\n",
      "<class 'float'>\n",
      "<class 'bool'>\n"
     ]
    }
   ],
   "source": [
    "string_to_int = str(data_string)\n",
    "string_to_float = float (data_string)\n",
    "string_to_boolean = bool (data_string)\n",
    "\n",
    "\n",
    "print(string_to_int)\n",
    "print (string_to_float)\n",
    "print(string_to_boolean)\n",
    "\n",
    "\n",
    "print(type(string_to_int))\n",
    "print(type(string_to_float))\n",
    "print(type(string_to_boolean))\n"
   ]
  },
  {
   "cell_type": "code",
   "execution_count": 86,
   "id": "6154525f-298c-4da4-a560-0ba9ce01da3c",
   "metadata": {},
   "outputs": [
    {
     "name": "stdout",
     "output_type": "stream",
     "text": [
      "False\n",
      "0.0\n",
      "<class 'str'>\n",
      "<class 'float'>\n"
     ]
    }
   ],
   "source": [
    "boolean_to_int = str(data_boolean)\n",
    "boolean_to_float = float (data_boolean)\n",
    "boolean_to_boolean = bool (data_boolean)\n",
    "\n",
    "\n",
    "print(boolean_to_int)\n",
    "print (boolean_to_float)\n",
    "\n",
    "\n",
    "\n",
    "print(type(boolean_to_int))\n",
    "print(type(boolean_to_float))\n",
    "\n"
   ]
  },
  {
   "cell_type": "code",
   "execution_count": 87,
   "id": "652f22a7-03f6-46eb-a1e9-2a1b2920dcef",
   "metadata": {},
   "outputs": [
    {
     "name": "stdout",
     "output_type": "stream",
     "text": [
      "10.5\n",
      "10.5\n",
      "True\n",
      "<class 'str'>\n",
      "<class 'float'>\n",
      "<class 'bool'>\n"
     ]
    }
   ],
   "source": [
    "float_to_int = str(data_float)\n",
    "float_to_float = float (data_float)\n",
    "float_to_boolean = bool (data_float)\n",
    "\n",
    "\n",
    "print(float_to_int)\n",
    "print (float_to_float)\n",
    "print(float_to_boolean)\n",
    "\n",
    "\n",
    "print(type(float_to_int))\n",
    "print(type(float_to_float))\n",
    "print(type(float_to_boolean))\n"
   ]
  }
 ],
 "metadata": {
  "kernelspec": {
   "display_name": "Python 3 (ipykernel)",
   "language": "python",
   "name": "python3"
  },
  "language_info": {
   "codemirror_mode": {
    "name": "ipython",
    "version": 3
   },
   "file_extension": ".py",
   "mimetype": "text/x-python",
   "name": "python",
   "nbconvert_exporter": "python",
   "pygments_lexer": "ipython3",
   "version": "3.9.12"
  }
 },
 "nbformat": 4,
 "nbformat_minor": 5
}
